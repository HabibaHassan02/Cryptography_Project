{
 "cells": [
  {
   "cell_type": "code",
   "execution_count": 147,
   "metadata": {},
   "outputs": [
    {
     "name": "stdout",
     "output_type": "stream",
     "text": [
      "ioikkoabonkmhljpkdioimkgapomknhgjfkgipilkpamojkhhpjakeilimknalohknhgjfkoipjbkoaconkfhpjgkpijimkjalohknhgjfkmiaimkoaoojkfhljpkciaimknalohknhhjfkcipilkoanojkhhajdkdiiiikiapoiknhmjgkbiligkoaponkihajckeiniikg\n"
     ]
    }
   ],
   "source": [
    "import string\n",
    "\n",
    "START = ord(\"a\")\n",
    "CHARSET = string.ascii_lowercase[:16]\n",
    "\n",
    "def encode_b16(plain):\n",
    "\tencoded = \"\"\n",
    "\tfor c in plain:\n",
    "\t\tbinary = \"{0:08b}\".format(ord(c))\n",
    "\t\tencoded += (CHARSET[int(binary[:4], 2)] + CHARSET[int(binary[4:], 2)])\n",
    "\t\t\n",
    "\treturn encoded\n",
    "\n",
    "def caesar_shift(c, k):\n",
    "\n",
    "\treturn CHARSET[(ord(c) + ord(k) - 2 * START) % len(CHARSET)]\n",
    "\n",
    "\n",
    "\n",
    "flag = \"jikmkjgekjkckjkbknkjlhgekflgkjgekbkfkpknkcklgekfgekbkdlkkjgcgejlkjgekckjkjkigelikdgekfkhligekkkflhligc\"\n",
    "# hint: key is a single letter\n",
    "key = \"secretkey\"\n",
    "\n",
    "b16 = encode_b16(flag)\n",
    "enc = \"\"\n",
    "# print(b16)\n",
    "for i, c in enumerate(b16):\n",
    "\tenc += caesar_shift(c, key[i % len(key)])\n",
    "\n",
    "print(enc)\n",
    "enc = \"jikmkjgekjkckjkbknkjlhgekflgkjgekbkfkpknkcklgekfgekbkdlkkjgcgejlkjgekckjkjkigelikdgekfkhligekkkflhligc\""
   ]
  },
  {
   "cell_type": "code",
   "execution_count": 157,
   "metadata": {},
   "outputs": [
    {
     "name": "stdout",
     "output_type": "stream",
     "text": [
      "The enemies are making a move. We need to act fast.\n"
     ]
    }
   ],
   "source": []
  }
 ],
 "metadata": {
  "kernelspec": {
   "display_name": "base",
   "language": "python",
   "name": "python3"
  },
  "language_info": {
   "codemirror_mode": {
    "name": "ipython",
    "version": 3
   },
   "file_extension": ".py",
   "mimetype": "text/x-python",
   "name": "python",
   "nbconvert_exporter": "python",
   "pygments_lexer": "ipython3",
   "version": "3.11.5"
  }
 },
 "nbformat": 4,
 "nbformat_minor": 2
}
