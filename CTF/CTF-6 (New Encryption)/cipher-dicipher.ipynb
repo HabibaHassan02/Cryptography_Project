{
 "cells": [
  {
   "cell_type": "code",
   "execution_count": 9,
   "metadata": {},
   "outputs": [
    {
     "name": "stdout",
     "output_type": "stream",
     "text": [
      "ioikkoabonkmhljpkdioimkgapomknhgjfkgipilkpamojkhhpjakeilimknalohknhgjfkoipjbkoaconkfhpjgkpijimkjalohknhgjfkmiaimkoaoojkfhljpkciaimknalohknhhjfkcipilkoanojkhhajdkdiiiikiapoiknhmjgkbiligkoaponkihajckeiniikg\n"
     ]
    }
   ],
   "source": [
    "import string\n",
    "\n",
    "START = ord(\"a\")\n",
    "CHARSET = string.ascii_lowercase[:16]\n",
    "\n",
    "def encode_b16(plain):\n",
    "\tencoded = \"\"\n",
    "\tfor c in plain:\n",
    "\t\tbinary = \"{0:08b}\".format(ord(c))\n",
    "\t\tencoded += (CHARSET[int(binary[:4], 2)] + CHARSET[int(binary[4:], 2)])\n",
    "\t\t\n",
    "\treturn encoded\n",
    "\n",
    "def caesar_shift(c, k):\n",
    "\n",
    "\treturn CHARSET[(ord(c) + ord(k) - 2 * START) % len(CHARSET)]\n",
    "\n",
    "\n",
    "\n",
    "flag = \"jikmkjgekjkckjkbknkjlhgekflgkjgekbkfkpknkcklgekfgekbkdlkkjgcgejlkjgekckjkjkigelikdgekfkhligekkkflhligc\"\n",
    "# hint: key is a single letter\n",
    "key = \"secretkey\"\n",
    "\n",
    "b16 = encode_b16(flag)\n",
    "enc = \"\"\n",
    "# print(b16)\n",
    "for i, c in enumerate(b16):\n",
    "\tenc += caesar_shift(c, key[i % len(key)])\n",
    "\n",
    "print(enc)"
   ]
  },
  {
   "cell_type": "code",
   "execution_count": 10,
   "metadata": {},
   "outputs": [
    {
     "name": "stdout",
     "output_type": "stream",
     "text": [
      "jikmkjgekjkckjkbknkjlhgekflgkjgekbkfkpknkcklgekfgekbkdlkkjgcgejlkjgekckjkjkigelikdgekfkhligekkkflhligc\n"
     ]
    }
   ],
   "source": [
    "START = ord(\"a\")\n",
    "CHARSET = string.ascii_lowercase[:16]\n",
    "\n",
    "def decode_b16(plain):\n",
    "\tdecoded = \"\"\n",
    "\tfor c in range(0,len(plain),2):\n",
    "\t\tfirst_char =  (ord(plain[c])-START)%len(CHARSET)\n",
    "\t\tsec_char = (ord(plain[c+1])-START)%len(CHARSET)\n",
    "\n",
    "\t\tbinary_first_char = \"{0:04b}\".format(first_char)\n",
    "\t\tbinary_sec_char = \"{0:04b}\".format(sec_char)\n",
    "\t\tchar_ascii=int(binary_first_char+binary_sec_char, 2)\n",
    "\n",
    "\t\tdecoded += chr(char_ascii)\n",
    "\t\t\n",
    "\treturn decoded\n",
    "\n",
    "\n",
    "def caesar_shift_decrypt(c, k):\n",
    "\treturn CHARSET[(ord(c) - ord(k)) % len(CHARSET)] \n",
    "\t\t \n",
    "b16=\"\"\n",
    "key = \"secretkey\"\n",
    "\n",
    "for i, c in enumerate(enc):\n",
    "\tb16 += caesar_shift_decrypt(c, key[i % len(key)])\n",
    "\n",
    "decrypted = decode_b16(b16)\n",
    "\t\n",
    "# print(b16)\n",
    "print(decrypted)"
   ]
  }
 ],
 "metadata": {
  "kernelspec": {
   "display_name": "base",
   "language": "python",
   "name": "python3"
  },
  "language_info": {
   "codemirror_mode": {
    "name": "ipython",
    "version": 3
   },
   "file_extension": ".py",
   "mimetype": "text/x-python",
   "name": "python",
   "nbconvert_exporter": "python",
   "pygments_lexer": "ipython3",
   "version": "3.11.5"
  }
 },
 "nbformat": 4,
 "nbformat_minor": 2
}
