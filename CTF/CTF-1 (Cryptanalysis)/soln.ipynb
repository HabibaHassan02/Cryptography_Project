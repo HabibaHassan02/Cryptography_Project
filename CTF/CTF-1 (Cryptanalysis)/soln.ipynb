{
 "cells": [
  {
   "cell_type": "code",
   "execution_count": null,
   "metadata": {},
   "outputs": [],
   "source": [
    "##### CTF-1\n",
    "encrypted_text = ''\n",
    "with open('encrypted_text.txt', 'r') as f:\n",
    "    encrypted_text = f.read()\n",
    "\n",
    "alphabet_dict = {chr(i): 0 for i in range(ord('A'), ord('Z')+1)}\n",
    "print(alphabet_dict)\n",
    "\n",
    "most_frequent = ['E','T','A','O','N','I','H','S','R','L','D','U','C','M','W','Y','F','G','P','B',\n",
    "'V','K','J','X','Q','Z']\n",
    "\n",
    "for key, value in alphabet_dict.items():\n",
    "    num_of_occurences = encrypted_text.count(key)\n",
    "    alphabet_dict[key] = num_of_occurences\n",
    "\n",
    "alphabet_frequencies = sorted(alphabet_dict.items(), key=lambda x: -x[1]) \n",
    "\n",
    "replace_dict = {'I': 'E', 'K': 'T', 'P': 'O', 'E': 'A', 'H': 'H', 'R': 'I', 'M': 'N', 'V': 'S', 'B': 'R', 'C': 'L', 'O': 'D', 'Y': 'W', 'X': 'U', 'N': 'F', 'S': 'G', 'A': 'C', 'T': 'B', 'W': 'Y', 'G': 'P', 'U': 'M', 'L': 'K', 'Q': 'V', 'D': 'J', 'J': 'X', 'Z': 'Z', 'F': 'Q'}\n",
    "\n",
    "\n",
    "print(replace_dict)\n",
    "new_string = ''.join(replace_dict.get(letter) or ' ' for letter in encrypted_text)\n",
    "\n",
    "print(new_string.lower())\n",
    "\n",
    "\n"
   ]
  }
 ],
 "metadata": {
  "language_info": {
   "name": "python"
  }
 },
 "nbformat": 4,
 "nbformat_minor": 2
}
