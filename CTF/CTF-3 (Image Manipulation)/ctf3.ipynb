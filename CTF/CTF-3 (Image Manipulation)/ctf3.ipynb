{
 "cells": [
  {
   "cell_type": "code",
   "execution_count": 1,
   "metadata": {},
   "outputs": [],
   "source": [
    "from PIL import Image\n",
    "import numpy as np\n",
    "\n",
    "\n",
    "image1 = Image.open('first.png')\n",
    "image2 = Image.open('second.png')\n",
    "\n",
    "\n",
    "img1Array = np.array(image1)\n",
    "img2Array = np.array(image2)\n",
    "\n",
    "result_array = img1Array + img2Array\n",
    "\n",
    "result_image = Image.fromarray(result_array.astype('uint8'))\n",
    "\n",
    "result_image.save('result.png')\n",
    "\n",
    "result_image.show()\n",
    " "
   ]
  },
  {
   "cell_type": "code",
   "execution_count": null,
   "metadata": {},
   "outputs": [],
   "source": []
  }
 ],
 "metadata": {
  "kernelspec": {
   "display_name": "Python 3",
   "language": "python",
   "name": "python3"
  },
  "language_info": {
   "codemirror_mode": {
    "name": "ipython",
    "version": 3
   },
   "file_extension": ".py",
   "mimetype": "text/x-python",
   "name": "python",
   "nbconvert_exporter": "python",
   "pygments_lexer": "ipython3",
   "version": "3.11.1"
  }
 },
 "nbformat": 4,
 "nbformat_minor": 2
}
